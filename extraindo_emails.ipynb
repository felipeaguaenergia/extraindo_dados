{
  "nbformat": 4,
  "nbformat_minor": 0,
  "metadata": {
    "colab": {
      "name": "extraindo_emails.ipynb",
      "provenance": [],
      "include_colab_link": true
    },
    "kernelspec": {
      "name": "python3",
      "display_name": "Python 3"
    },
    "language_info": {
      "name": "python"
    }
  },
  "cells": [
    {
      "cell_type": "markdown",
      "metadata": {
        "id": "view-in-github",
        "colab_type": "text"
      },
      "source": [
        "<a href=\"https://colab.research.google.com/github/felipeaguaenergia/extraindo_dados/blob/main/extraindo_emails.ipynb\" target=\"_parent\"><img src=\"https://colab.research.google.com/assets/colab-badge.svg\" alt=\"Open In Colab\"/></a>"
      ]
    },
    {
      "cell_type": "code",
      "metadata": {
        "id": "HbJawLZIixnX",
        "colab": {
          "base_uri": "https://localhost:8080/"
        },
        "outputId": "7b62dcde-10fe-4670-8c79-5f98b24e2abb"
      },
      "source": [
        "from urllib.request import urlopen\n",
        "from bs4 import BeautifulSoup\n",
        "import pandas as pd\n",
        " \n",
        "def endereco():\n",
        "  url = input('Digite o endereço: ')\n",
        "  return url\n",
        " \n",
        "response = urlopen(endereco())\n",
        "html = response.read().decode('utf-8')\n",
        "soup = BeautifulSoup(html, 'html.parser')\n",
        " \n",
        "def classe():\n",
        "  classe_ = input('Digite a classe: ')\n",
        "  return classe_\n",
        " \n",
        "def arquivo():\n",
        "  nome_arquivo = input('Digite o nome do arquivo: ')\n",
        "  return nome_arquivo\n",
        " \n",
        "mails = []\n",
        "for e_mail in soup.findAll('a', {'class': classe()}):\n",
        "  mails.append(e_mail.getText())\n",
        "  \n",
        "dataset = pd.DataFrame(mails)\n",
        " \n",
        "dataset.to_excel(arquivo()+\".xlsx\", sheet_name = 'lista_emails', index=False)"
      ],
      "execution_count": null,
      "outputs": [
        {
          "output_type": "stream",
          "text": [
            "Digite o endereço: https://docs.google.com/document/d/e/2PACX-1vTytgNG2SpbPFugu2b-4EIjX0uGZc8eYBmytar5FRJozc2UxjAGikAYYX5fwDBung/pub\n",
            "Digite a classe: c0\n",
            "Digite o nome do arquivo: LetraW\n"
          ],
          "name": "stdout"
        }
      ]
    },
    {
      "cell_type": "code",
      "metadata": {
        "id": "e5KVk3OLnzHz"
      },
      "source": [
        ""
      ],
      "execution_count": null,
      "outputs": []
    },
    {
      "cell_type": "code",
      "metadata": {
        "id": "cR8sPggPA9xH"
      },
      "source": [
        ""
      ],
      "execution_count": null,
      "outputs": []
    }
  ]
}